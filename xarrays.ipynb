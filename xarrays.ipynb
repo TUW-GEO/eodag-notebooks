{
 "cells": [
  {
   "cell_type": "code",
   "execution_count": null,
   "metadata": {},
   "outputs": [],
   "source": [
    "#Imports \n",
    "import xarray as xr\n",
    "import numpy as np\n",
    "from rioxarray.merge import merge_arrays"
   ]
  },
  {
   "cell_type": "markdown",
   "metadata": {},
   "source": [
    "# Xarray"
   ]
  },
  {
   "cell_type": "markdown",
   "metadata": {},
   "source": [
    "## Dataset Operations"
   ]
  },
  {
   "cell_type": "code",
   "execution_count": null,
   "metadata": {},
   "outputs": [],
   "source": [
    "# Now we will create some DataArrays with some fake data, which have a similar structure as eodags single bands.\n",
    "def DataArray(array, bottom_left:tuple, date:str):\n",
    "    arr = xr.DataArray(data=array,\n",
    "                        dims=('band', 'y', 'x'),\n",
    "                        coords={'x':np.arange(bottom_left[0],bottom_left[0] + array.shape[-1]),\n",
    "                                'y':np.arange(bottom_left[1],bottom_left[1] + array.shape[1]),\n",
    "                                'band':[1],\n",
    "                                'spatial_ref':0},\n",
    "                            attrs = {'scale_factor':1.0,\n",
    "                                    'add_offset': 0.0,\n",
    "                                    '_FillValue': 65535})\n",
    "    arr = arr.squeeze()\n",
    "    arr = arr.expand_dims(dim={'time':[date]})\n",
    "    return arr\n",
    "\n",
    "#####################\n",
    "# Tile 1 \n",
    "#####################\n",
    "\n",
    "# Time 1, Bands 1,2,3\n",
    "T1_b1_1, T1_b2_1, T1_b3_1 = [DataArray(np.random.randint((idx+1)*10,(idx+1)*10+10, size=(1,4,5)), bottom_left=(45, 16), date='01.01.2024') for idx in range(3)] \n",
    "\n",
    "# Time 2, Bands 1,2,3\n",
    "T1_b1_2, T1_b2_2, T1_b3_2 = [DataArray(np.random.randint((idx+1)*10,(idx+1)*10+10, size=(1,4,5)), bottom_left=(45, 16), date='02.02.2024') for idx in range(3)] \n",
    "\n",
    "#####################\n",
    "# Tile 2\n",
    "#####################\n",
    "\n",
    "# Time 1, Bands 1,2,3\n",
    "T2_b1_1, T2_b2_1, T2_b3_1 = [DataArray(np.random.randint((idx+1)*10,(idx+1)*10+10, size=(1,4,5)), bottom_left=(41, 16), date='01.01.2024') for idx in range(3)] \n",
    "\n",
    "# Tile 2, Time 2, Bands 1,2,3\n",
    "T2_b1_2, T2_b2_2, T2_b3_2 = [DataArray(np.random.randint((idx+1)*10,(idx+1)*10+10, size=(1,4,5)), bottom_left=(41, 16), date='02.02.2024') for idx in range(3)] \n",
    "\n",
    "\n",
    "# Naming the Bands\n",
    "for elem in [T1_b1_1, T2_b1_1, T1_b1_2, T2_b1_2]:\n",
    "    elem.name = 'B01'\n",
    "\n",
    "for elem in [T1_b2_1, T2_b2_1, T1_b2_2, T2_b2_2]:\n",
    "    elem.name = 'B02'\n",
    "\n",
    "for elem in [T1_b3_1, T2_b3_1, T1_b3_2, T2_b3_2]:\n",
    "    elem.name = 'B03'"
   ]
  },
  {
   "cell_type": "code",
   "execution_count": null,
   "metadata": {},
   "outputs": [],
   "source": [
    "# Display one Dataarray\n",
    "T1_b3_2"
   ]
  },
  {
   "cell_type": "code",
   "execution_count": null,
   "metadata": {},
   "outputs": [],
   "source": [
    "# Load multiple Bands from same Tile and same time.\n",
    "# With this Method if there are multiple spatial and temporal cordinates, the later ones will overwrite. (See if you add one other Tile)\n",
    "def Dataset_from_Arrays(arrays):\n",
    "    load_data = {}\n",
    "    for elem in arrays:\n",
    "        load_data[elem.name] = elem\n",
    "    ds = xr.Dataset(load_data)\n",
    "    return ds\n",
    "\n",
    "ds_T1_1 = Dataset_from_Arrays([T1_b1_1, T1_b2_1, T1_b3_1])\n",
    "ds_T1_2 = Dataset_from_Arrays([T1_b1_2, T1_b2_2, T1_b3_2])\n",
    "\n",
    "ds_T2_1 = Dataset_from_Arrays([T2_b1_1, T2_b2_1, T2_b3_1])\n",
    "ds_T2_2 = Dataset_from_Arrays([T2_b1_2, T2_b2_2, T2_b3_2])"
   ]
  },
  {
   "cell_type": "code",
   "execution_count": null,
   "metadata": {},
   "outputs": [],
   "source": [
    "# Merging Datasets with different Timestamps, but same spatial extent\n",
    "ds_T1 = xr.concat([ds_T1_1, ds_T1_2], dim='time')\n",
    "ds_T1"
   ]
  },
  {
   "cell_type": "code",
   "execution_count": null,
   "metadata": {},
   "outputs": [],
   "source": [
    "# Merging Datasets with different spatial extent but same timestamps\n",
    "ds_1 = merge_arrays([arr.squeeze() for arr in [ds_T1_1, ds_T2_1]])\n",
    "ds_1"
   ]
  },
  {
   "cell_type": "markdown",
   "metadata": {},
   "source": [
    "## Different Merging Operations"
   ]
  },
  {
   "cell_type": "code",
   "execution_count": null,
   "metadata": {},
   "outputs": [],
   "source": []
  },
  {
   "cell_type": "markdown",
   "metadata": {},
   "source": [
    "## Reading NetCDF"
   ]
  },
  {
   "cell_type": "code",
   "execution_count": null,
   "metadata": {},
   "outputs": [],
   "source": [
    "path = '../eodag-data/eodag_workspace_post_process\\eodag_netCDF\\image1.nc'\n",
    "image = xr.open_dataset(path)\n",
    "image"
   ]
  },
  {
   "cell_type": "code",
   "execution_count": null,
   "metadata": {},
   "outputs": [],
   "source": [
    "image.Image1"
   ]
  },
  {
   "cell_type": "code",
   "execution_count": null,
   "metadata": {},
   "outputs": [],
   "source": [
    "image.close()"
   ]
  }
 ],
 "metadata": {
  "kernelspec": {
   "display_name": "base",
   "language": "python",
   "name": "python3"
  },
  "language_info": {
   "codemirror_mode": {
    "name": "ipython",
    "version": 3
   },
   "file_extension": ".py",
   "mimetype": "text/x-python",
   "name": "python",
   "nbconvert_exporter": "python",
   "pygments_lexer": "ipython3",
   "version": "3.11.7"
  }
 },
 "nbformat": 4,
 "nbformat_minor": 2
}
