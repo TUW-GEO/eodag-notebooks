{
 "cells": [
  {
   "cell_type": "code",
   "execution_count": null,
   "metadata": {},
   "outputs": [],
   "source": [
    "# Imports \n",
    "import os\n",
    "import matplotlib.pyplot as plt\n",
    "import matplotlib.image as mpimg\n",
    "import xarray as xr\n",
    "import folium\n",
    "import numpy as np\n",
    "import pandas as pd\n",
    "import datetime as dt\n",
    "\n",
    "from eodag import EODataAccessGateway\n",
    "from eodag import setup_logging\n",
    "\n",
    "from rasterio.crs import CRS\n",
    "from rioxarray.merge import merge_arrays\n",
    "\n",
    "from dotenv import dotenv_values\n",
    "\n",
    "# Setup Verbose Values:\n",
    "# 0: no logging and no progress bar\n",
    "# 1: no logging but progress bars displayed\n",
    "# 2: log at the INFO level\n",
    "# 3: log at the DEBUG level (even more information)\n",
    "\n",
    "setup_logging(verbose=0)"
   ]
  },
  {
   "cell_type": "markdown",
   "metadata": {},
   "source": [
    "# Image Processing\n",
    "This Notebook intends to show some examples of image processing."
   ]
  },
  {
   "cell_type": "markdown",
   "metadata": {},
   "source": [
    "## Data Retrieval/Acquisition\n",
    "The first Lines of Code, which essentialy load the data are not explained, since the Notebooks 01 and 02 do that."
   ]
  },
  {
   "cell_type": "code",
   "execution_count": null,
   "metadata": {},
   "outputs": [],
   "source": [
    "#Get Secrets from .env File\n",
    "secrets = dotenv_values('.env')"
   ]
  },
  {
   "cell_type": "code",
   "execution_count": null,
   "metadata": {},
   "outputs": [],
   "source": [
    "#Create Folders for saving Data, serializing and post processing.\n",
    "\n",
    "# Path where the Data should be stored ('c:\\\\Users\\\\theUSER\\\\eodag-data')\n",
    "root = '../eodag-data/'\n",
    "\n",
    "workspace_download = os.path.join(root,'eodag_workspace_download')\n",
    "workspace_serialize = os.path.join(root,'eodag_workspace_serialize_deserialize')\n",
    "workspace_post_process = os.path.join(root,'eodag_workspace_post_process')\n",
    "workspaces = [workspace_download, workspace_serialize, workspace_post_process]\n",
    "\n",
    "for ws in workspaces:\n",
    "    ws = os.path.abspath(ws)\n",
    "    \n",
    "    if not os.path.isdir(ws):\n",
    "        os.mkdir(ws)\n",
    "        print(f'Created Folder: {ws}')\n",
    "    else:\n",
    "        print(f'Folder already exists: {ws}')"
   ]
  },
  {
   "cell_type": "code",
   "execution_count": null,
   "metadata": {},
   "outputs": [],
   "source": [
    "# 1. Configure\n",
    "#Create EODAG Object and set preferred Provider\n",
    "dag = EODataAccessGateway()\n",
    "dag.set_preferred_provider(\"cop_dataspace\") # Copernicus Data Space Ecosystem\n",
    "\n",
    "dag.update_providers_config(f\"\"\"\n",
    "    cop_dataspace:\n",
    "        download:\n",
    "            outputs_prefix: {os.path.abspath(workspace_download)}\n",
    "        auth:\n",
    "            credentials:\n",
    "                username: {secrets['USER_KEY']}\n",
    "                password: {secrets['USER_SECRET']}\n",
    "\"\"\")\n"
   ]
  },
  {
   "cell_type": "code",
   "execution_count": null,
   "metadata": {},
   "outputs": [],
   "source": [
    "# Deserialize the Search Results\n",
    "output_file = os.path.join(workspace_serialize, \"search_results.geojson\")\n",
    "deserialized_search_results = dag.deserialize_and_register(output_file)\n",
    "\n",
    "print(f\"Got {len(deserialized_search_results)} deserialized products.\")"
   ]
  },
  {
   "cell_type": "code",
   "execution_count": null,
   "metadata": {},
   "outputs": [],
   "source": [
    "# Download multiple Products\n",
    "products = deserialized_search_results\n",
    "paths = dag.download_all(products)\n"
   ]
  },
  {
   "cell_type": "code",
   "execution_count": null,
   "metadata": {},
   "outputs": [],
   "source": [
    "# Set Boundingbox for Area inside the Tile.\n",
    "latmin, latmax = 48.1, 48.35\n",
    "lonmin, lonmax = 16.1, 16.6\n",
    "extent = {'lonmin': lonmin, 'latmin': latmin, 'lonmax': lonmax, 'latmax': latmax}"
   ]
  },
  {
   "cell_type": "code",
   "execution_count": null,
   "metadata": {},
   "outputs": [],
   "source": [
    "# Setting common Parameters for all further image processing\n",
    "common_params = dict(\n",
    "    crs=CRS.from_epsg(4326),               # the downloaded images are in 4326, don't reproject them\n",
    "    resolution=0.0006,                     # but lower their resolution (0.0006 should be 60m in 100km)\n",
    "    extent=(lonmin,latmin,lonmax,latmax)   # and zoom over/crop the area of interest\n",
    ")\n",
    "\n",
    "# Define basic Functions for future operations\n",
    "def normalized_difference(a, b):\n",
    "    return (a - b*1.)/(a + b)\n",
    "\n",
    "def normalize(a):\n",
    "    return (a - a.min())/(a.max() - a.min())\n",
    "    "
   ]
  },
  {
   "cell_type": "code",
   "execution_count": null,
   "metadata": {},
   "outputs": [],
   "source": [
    "# Get a list of all available Bands (assets)\n",
    "def get_assets(root:str, res=60):\n",
    "    jp2_files = [file for dirs in os.walk(root, topdown=True)\n",
    "                     for file in dirs[2] if file.endswith(f\"_{res}m.jp2\")]\n",
    "    assets = [file.split('_')[2] for file in jp2_files if file.startswith('T')]\n",
    "    return assets\n",
    "    \n",
    "    \n",
    "assets = get_assets(paths[0], res=10)\n",
    "assets"
   ]
  },
  {
   "cell_type": "code",
   "execution_count": null,
   "metadata": {},
   "outputs": [],
   "source": [
    "# Functions for loading data into datasets.\n",
    "\n",
    "def load_single_product(product, bands:list):\n",
    "    loaded_data = {}\n",
    "\n",
    "    for band in bands:\n",
    "        data = product.get_data(band=band, **common_params)\n",
    "        data = data.squeeze()\n",
    "\n",
    "        time_str = product.properties['startTimeFromAscendingNode']\n",
    "        date = dt.datetime.strptime(time_str,'%Y-%m-%dT%H:%M:%S.%f%z')\n",
    "\n",
    "        data = data.expand_dims(dim={'time':[date.date()]})\n",
    "        data.name = band\n",
    "        loaded_data[band] = data\n",
    "    ds = xr.Dataset(loaded_data)\n",
    "    return ds\n",
    "\n",
    "def load_multiple_timestamps(products, bands:list):\n",
    "    loaded_data = {}\n",
    "    # Combine multiple Dataarrays into one Dataset\n",
    "    for band in bands:\n",
    "        single_band_ts = []\n",
    "        # Load one Band of each product and concat them into an xarray Dataarray\n",
    "        for prod in products: \n",
    "            data = prod.get_data(band=band, **common_params)\n",
    "            data = data.squeeze()\n",
    "\n",
    "            time_str = prod.properties['startTimeFromAscendingNode'][:-1] #Remove Timezone info\n",
    "            date = pd.to_datetime([time_str])\n",
    "\n",
    "            data = data.expand_dims(time=date)\n",
    "            data.name = band\n",
    "            single_band_ts.append(data)\n",
    "            \n",
    "        ts =  xr.concat(single_band_ts, dim='time')\n",
    "        loaded_data[band] = ts   \n",
    "\n",
    "    ds = xr.Dataset(loaded_data)\n",
    "    return ds"
   ]
  },
  {
   "cell_type": "code",
   "execution_count": null,
   "metadata": {},
   "outputs": [],
   "source": [
    "# Loading multiple Bands into a dataset with multiple Timestamps\n",
    "ds = load_multiple_timestamps(products=products, bands=['B04', 'B03', 'B02', 'B08', 'TCI'])"
   ]
  },
  {
   "cell_type": "code",
   "execution_count": null,
   "metadata": {},
   "outputs": [],
   "source": [
    "products[0]"
   ]
  },
  {
   "cell_type": "markdown",
   "metadata": {},
   "source": [
    "## Image Processing"
   ]
  },
  {
   "cell_type": "markdown",
   "metadata": {},
   "source": [
    "### Stacking"
   ]
  },
  {
   "cell_type": "markdown",
   "metadata": {},
   "source": [
    "In order to display an array, the array needs to have either one or three channels. If there is one color channel the image or array will be displayed as a *black and white* (greyscale) image, but any colormap can be chosen. If the array has three colors each \"layer\" will be interpreted as one of the RGB colors.\n",
    "\n",
    "In this example a single image from the dataset is chosen."
   ]
  },
  {
   "cell_type": "code",
   "execution_count": null,
   "metadata": {},
   "outputs": [],
   "source": [
    "# Load Bands 4 and 8 into memory\n",
    "RED = products[0].get_data(band=\"B04\", **common_params)\n",
    "NIR = products[0].get_data(band=\"B08\", **common_params)\n",
    "\n",
    "NDVI = normalized_difference(NIR, RED)\n",
    "\n",
    "NDVI.plot(cmap=\"RdYlGn\", center=False, size=6)"
   ]
  },
  {
   "cell_type": "code",
   "execution_count": null,
   "metadata": {},
   "outputs": [],
   "source": [
    "NIR"
   ]
  },
  {
   "cell_type": "code",
   "execution_count": null,
   "metadata": {},
   "outputs": [],
   "source": [
    "# Select a single Timestamp from the Dataset (both of the following methods work)\n",
    "single_image = ds.sel(time=dt.datetime(2023, 3, 18), method='nearest')"
   ]
  },
  {
   "cell_type": "markdown",
   "metadata": {},
   "source": [
    "Then the individual bands are extracted from the dataarray and stacked to create an array with shape (x,y,3). Note that Numpy interpretes the first array as red the second as green and the third as blue. It might be natural to stack the bands like that `[b02, b03, b04]`, but this will lead to wrong color interpretations. The Axis defines where the bands should be stacked. If the axis is not set to 2 then the output array will have the shapes (3,x,y) or (x,3,y), both of which will not be properly interpreted."
   ]
  },
  {
   "cell_type": "code",
   "execution_count": null,
   "metadata": {},
   "outputs": [],
   "source": [
    "b02 = single_image['B02'].values #blue values\n",
    "b03 = single_image['B03'].values #green values\n",
    "b04 = single_image['B04'].values #red values\n",
    "\n",
    "rgb_raw = np.stack([b04, b03, b02], axis=2)"
   ]
  },
  {
   "cell_type": "markdown",
   "metadata": {},
   "source": [
    "Now the image can be plotted useing ``matplotlib``. Here the aspect ratio is set to 2, as the longitude (lon) coordinates range from -180 to 180 but the latitude (lat) coordinates just from -90 to 90. Therefore 1° in lon would be similar in lenght to 2° lat."
   ]
  },
  {
   "cell_type": "code",
   "execution_count": null,
   "metadata": {},
   "outputs": [],
   "source": [
    "# Plot Image\n",
    "fig, ax = plt.subplots(figsize=(8,8))\n",
    "ax.imshow(rgb_raw, aspect=2)\n",
    "ax.set_title(\"rgb raw\")\n",
    "ax.set_axis_off()"
   ]
  },
  {
   "cell_type": "markdown",
   "metadata": {},
   "source": [
    "As you can clearly see the contrast of the image is very low, which makes it appear very dark. Therefore it is helpful to have a look at the Histograms of the image, to properly get a higher contrast."
   ]
  },
  {
   "cell_type": "markdown",
   "metadata": {},
   "source": [
    "### Histogram"
   ]
  },
  {
   "cell_type": "code",
   "execution_count": null,
   "metadata": {},
   "outputs": [],
   "source": [
    "# Function for plotting an Histogram\n",
    "\n",
    "def histogram(arr, nbins=300, alpha=0.5, figsize=(5,5), title='Histogram'):\n",
    "    #Flatten\n",
    "    flat_r = arr[:, :, 0].flatten()\n",
    "    flat_g = arr[:, :, 1].flatten()\n",
    "    flat_b = arr[:, :, 2].flatten()\n",
    "\n",
    "    # You can set the number of bins and alpha individually\n",
    "    mbins = np.linspace(np.nanmin(arr), np.nanmax(arr), nbins)\n",
    "\n",
    "    # Plot \n",
    "    fig, ax = plt.subplots(figsize=figsize)\n",
    "    ax.hist(flat_r, color='red', bins=mbins, alpha=alpha)\n",
    "    ax.hist(flat_g, color='green', bins=mbins,  alpha=alpha)\n",
    "    ax.hist(flat_b, color='blue', bins=mbins,  alpha=alpha)\n",
    "\n",
    "    ax.set_title(title)\n",
    "    ax.set_xlabel('I')\n",
    "    ax.set_ylabel('n')\n",
    "    plt.show()\n"
   ]
  },
  {
   "cell_type": "code",
   "execution_count": null,
   "metadata": {},
   "outputs": [],
   "source": [
    "#single_image['TCI'].plot.imshow()\n",
    "\n",
    "single_image['B02'].plot.imshow()\n",
    "np.unique(single_image['B02'])"
   ]
  },
  {
   "cell_type": "code",
   "execution_count": null,
   "metadata": {},
   "outputs": [],
   "source": [
    "single_image['TCI'].plot.imshow()"
   ]
  },
  {
   "cell_type": "code",
   "execution_count": null,
   "metadata": {},
   "outputs": [],
   "source": [
    "histogram(rgb_raw, nbins=3)"
   ]
  },
  {
   "cell_type": "code",
   "execution_count": null,
   "metadata": {},
   "outputs": [],
   "source": []
  },
  {
   "cell_type": "markdown",
   "metadata": {},
   "source": [
    "### Contrast"
   ]
  },
  {
   "cell_type": "markdown",
   "metadata": {},
   "source": [
    "### False Color Image"
   ]
  },
  {
   "cell_type": "code",
   "execution_count": null,
   "metadata": {},
   "outputs": [],
   "source": [
    "# Select a single Timestamp from the Dataset (both of the following methods work)\n",
    "\n",
    "single_image = ds.sel(time=dt.datetime(2023, 3, 16), method='nearest')\n",
    "#single_image = ds.sel(time='2023-03-16', method='nearest')\n",
    "\n",
    "#single_image"
   ]
  },
  {
   "cell_type": "markdown",
   "metadata": {},
   "source": []
  },
  {
   "cell_type": "code",
   "execution_count": null,
   "metadata": {},
   "outputs": [],
   "source": [
    "# Loading the differnt Bands for the False Color Image\n",
    "b02 = single_image['B02'].values #blue values\n",
    "b03 = single_image['B03'].values #green values\n",
    "b08 = single_image['B08'].values #NIR values\n",
    "\n",
    "# Stacking the Bands into a numpy array, which can be interpreted as an RGB Image.\n",
    "fc_img = np.stack([b08, b03, b02], axis=2)\n",
    "fc_img = normalize(fc_img)"
   ]
  },
  {
   "cell_type": "code",
   "execution_count": null,
   "metadata": {},
   "outputs": [],
   "source": [
    "fig, ax = plt.subplots()\n",
    "ax.imshow(fc_img)\n",
    "plt.show()"
   ]
  }
 ],
 "metadata": {
  "kernelspec": {
   "display_name": "Python 3",
   "language": "python",
   "name": "python3"
  },
  "language_info": {
   "codemirror_mode": {
    "name": "ipython",
    "version": 3
   },
   "file_extension": ".py",
   "mimetype": "text/x-python",
   "name": "python",
   "nbconvert_exporter": "python",
   "pygments_lexer": "ipython3",
   "version": "3.12.3"
  }
 },
 "nbformat": 4,
 "nbformat_minor": 2
}
