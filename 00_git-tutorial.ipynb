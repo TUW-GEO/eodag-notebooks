{
 "cells": [
  {
   "cell_type": "markdown",
   "metadata": {},
   "source": [
    "# Github"
   ]
  },
  {
   "cell_type": "markdown",
   "metadata": {},
   "source": [
    "This Notebook is intended to be a simple tutorial into Github and its commands. For a more in depth look into git checkout the Git Book here:\n",
    "https://git-scm.com/book/de/v2 "
   ]
  },
  {
   "cell_type": "markdown",
   "metadata": {},
   "source": [
    "## Basic Commands"
   ]
  },
  {
   "cell_type": "markdown",
   "metadata": {},
   "source": [
    "`git init` to create a git repo\n",
    "\n",
    "`git add myFile` to put files in the stage'ing state (prepareing them for the commit)\n",
    "\n",
    "`git commit -m \"commit message\"` to commit all staged files with an apropriate commit message\n",
    "\n",
    "`git commit -a -m \"commit message\"` to add and commit all modified files\n",
    "\n",
    "`git clone https://github.com/myproject` to clone a repository\n",
    "\n",
    "`git push` to save local changes to remote repository\n",
    "\n",
    "`git pull` to load newest version from remote repository\n",
    "\n",
    "`git status` to see the status of your files\n",
    "\n",
    "`git log` shows the previous commits\n",
    "\n",
    "`git checkout mybranch` changes to another branch and with  `-b my branch` creates and switches to that branch\n",
    "\n",
    "`git branch` creates a new branch, with `-d` branch gets deleted\n",
    "\n",
    "`git merge mybranch` branch wird in master branch integriert"
   ]
  },
  {
   "cell_type": "markdown",
   "metadata": {},
   "source": [
    "## General idea of git"
   ]
  },
  {
   "cell_type": "markdown",
   "metadata": {},
   "source": [
    "The underlying idea of git is __version control__. Version control is a system that records\n",
    "changes to a file or set of files over time so that you can recall specific versions later."
   ]
  },
  {
   "cell_type": "markdown",
   "metadata": {},
   "source": [
    "\n",
    "## Git Basics on your Local Machine"
   ]
  },
  {
   "cell_type": "markdown",
   "metadata": {},
   "source": [
    "### Creating a Repository on your local machine"
   ]
  },
  {
   "cell_type": "markdown",
   "metadata": {},
   "source": [
    "The most basic case for the useage of git would be version control on your local machine. For that there are two ways wich will get you a Git repository (or short repo).\n",
    "\n",
    "- 1. You turn a local directory into a Git repo or\n",
    "- 2. You clone (copy) an existing Git repo from elsewhere\n",
    "\n",
    "In either case, you end up with a Git repository on your local machine, ready for work."
   ]
  },
  {
   "cell_type": "markdown",
   "metadata": {},
   "source": [
    "#### Initializing a repository in an existing directory"
   ]
  },
  {
   "cell_type": "markdown",
   "metadata": {},
   "source": [
    "If you have a project directory that is currently not under version control and you want to start\n",
    "controlling it with Git, you first need to go to that project’s directory useing the change directory command `cd` in an terminal. If you’ve never done this, it\n",
    "looks a little different depending on which system you’re running:\n",
    "- Linux: `$ cd /home/user/my_project`\n",
    "- MacOS: `$ cd /Users/user/my_project`\n",
    "- Windows: `$ cd C:/Users/user/my_project`\n",
    "\n",
    "and then type `$ git init`. This creates a new subdirectory named .git that contains all of your necessary repository files - a\n",
    "Git repository skeleton. At this point, nothing in your project is tracked yet.\n",
    "\n",
    "If you want to start version-controlling existing files (as opposed to an empty directory), you should\n",
    "probably begin tracking those files and do an initial commit. You can accomplish that with a few\n",
    "`git add` commands that specify the files you want to track, followed by a `git commit`:\n",
    "\n",
    "- `$ git add myFile.txt` this command adds the file to the files the will be tracked.\n",
    "- `git commit -m \"My first git Commit\"` this command commits the file (kind of like saving a file) and adds a message with `-m \"...\"` to the commit.\n",
    "\n",
    "The commit message should shortly describe the changes that happend to the files since the last commit. "
   ]
  },
  {
   "cell_type": "markdown",
   "metadata": {},
   "source": [
    "#### Cloning an existing Repository"
   ]
  },
  {
   "cell_type": "markdown",
   "metadata": {},
   "source": [
    "If you want to get a copy of an existing Git repository - for example, a project you’d like to\n",
    "contribute to - the command you need is ``git clone``. If you’re familiar with other VCSs such as\n",
    "Subversion, you’ll notice that the command is \"clone\" and not \"checkout\". This is an important\n",
    "distinction — instead of getting just a working copy, Git receives a full copy of nearly all data that\n",
    "the server has.\n",
    "\n",
    "- `$ git clone https://github.com/myproject`\n",
    "\n",
    "If you want to clone the repository into a directory named something other than `myproject`, you can\n",
    "specify the new directory name as an additional argument:\n",
    "\n",
    "- `$ git clone https://github.com/myproject newproject` which saves the repo as `newproject`\n",
    "\n"
   ]
  },
  {
   "cell_type": "markdown",
   "metadata": {},
   "source": [
    "### Recording Changes to the Repository"
   ]
  },
  {
   "cell_type": "markdown",
   "metadata": {},
   "source": [
    "At this point, you should have a bona fide Git repository on your local machine, and a checkout or\n",
    "working copy of all of its files in front of you. Typically, you’ll want to start making changes and\n",
    "committing snapshots of those changes into your repository each time the project reaches a state\n",
    "you want to record.\n",
    "\n",
    "Remember that each file in your working directory can be in one of two states: tracked or\n",
    "untracked. Tracked files are files that were in the last snapshot, as well as any newly staged files;\n",
    "they can be unmodified, modified, or staged. In short, tracked files are files that Git knows about.\n",
    "\n",
    "Untracked files are everything else — any files in your working directory that were not in your last\n",
    "snapshot and are not in your staging area. When you first clone a repository, all of your files will be\n",
    "tracked and unmodified because Git just checked them out and you haven’t edited anything.\n",
    "\n",
    "As you edit files, Git sees them as modified, because you’ve changed them since your last commit.\n",
    "As you work, you selectively stage these modified files and then commit all those staged changes,\n",
    "and the cycle repeats.\n",
    "\n",
    "<img src=\"Graphics/git_lifecycle.png\">\n",
    "\n",
    "The main tool you use to determine which files are in which state is the ``git status`` command. If you\n",
    "run this command directly after a clone, you should see something like this:\n",
    "\n",
    "``$ git status``\n",
    "\n",
    "``On branch master``\n",
    "\n",
    "``Your branch is up-to-date with 'origin/master'.``\n",
    "\n",
    "``nothing to commit, working tree clean``\n",
    "\n",
    "This means you have a clean working directory; in other words, none of your tracked files are\n",
    "modified. Git also doesn’t see any untracked files, or they would be listed here. Finally, the\n",
    "command tells you which branch you’re on and informs you that it has not diverged from the same\n",
    "branch on the server. Additionally the `git status` will give you information on how to handle \n",
    "certain file at the different stages.\n",
    "\n",
    "In order to start tracking a new file you will use:\n",
    "`$ git add newFile`.\n",
    "\n",
    "To Stage modified Files, which has already been tracked, you also use: \n",
    "`$ git add modifiedFile`\n",
    "\n",
    "Basically if you want a file to be in the stage'ing state you use `git add`. \n",
    "\n",
    "After that you want to commit the files, but there is an easier way to add a lot of files and to commit them.\n",
    "\n",
    "Use `git commit -a -m \"my commit message\"` to add all modified  (not untracked) files with `-a` and commit them.\n",
    "\n",
    "Sometimes you don't want Git to show you some files. Then you can create a new file in your directory called `.gitignore`.\n",
    "In each line of this file ther should be some kind of filename, which you want git to ignore. There are a few shortcuts for \n",
    "files with the same ending, but for that checkout the Git Book on page 32."
   ]
  },
  {
   "cell_type": "markdown",
   "metadata": {},
   "source": []
  }
 ],
 "metadata": {
  "language_info": {
   "name": "python"
  }
 },
 "nbformat": 4,
 "nbformat_minor": 2
}
