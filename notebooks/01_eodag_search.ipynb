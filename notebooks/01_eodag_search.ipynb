{
 "cells": [
  {
   "cell_type": "code",
   "execution_count": 12,
   "metadata": {},
   "outputs": [],
   "source": [
    "#Imports\n",
    "import os\n",
    "import matplotlib.pyplot as plt\n",
    "import matplotlib.image as mpimg\n",
    "import numpy as np\n",
    "import folium\n",
    "import yaml\n",
    "\n",
    "from eodag import EODataAccessGateway\n",
    "from eodag import setup_logging\n",
    "from eodag.crunch import FilterProperty\n",
    "from eodag import SearchResult\n",
    "\n",
    "from dotenv import dotenv_values\n",
    "\n",
    "# Setup Verbose Values:\n",
    "# 0: no logging and no progress bar\n",
    "# 1: no logging but progress bars displayed\n",
    "# 2: log at the INFO level\n",
    "# 3: log at the DEBUG level (even more information)\n",
    "\n",
    "setup_logging(verbose=0)"
   ]
  },
  {
   "cell_type": "markdown",
   "metadata": {},
   "source": [
    "# EODAG - Search\n",
    "\n",
    "EODAG (Earth Observation Data Access Gateway) is a command line tool and a Python package for searching and downloading remotely sensed images while offering a unified API for data access regardless of the data provider.\n",
    "\n",
    "EODAG gives you an easy way to access products from more than 10 providers, with more than 50 different product types (Sentinel 1, Sentinel 2, Sentinel 3, Landsat, etc.) that can be searched and downloaded."
   ]
  },
  {
   "cell_type": "code",
   "execution_count": 35,
   "metadata": {},
   "outputs": [],
   "source": [
    "# Define all paths in paths.yml file. \n",
    "with open(\"paths.yml\", 'r') as f:\n",
    "    paths = yaml.safe_load(f)"
   ]
  },
  {
   "cell_type": "code",
   "execution_count": 36,
   "metadata": {},
   "outputs": [],
   "source": [
    "#Get Secrets from .env File\n",
    "secrets = dotenv_values(paths['credentials'])"
   ]
  },
  {
   "cell_type": "code",
   "execution_count": 38,
   "metadata": {},
   "outputs": [
    {
     "name": "stdout",
     "output_type": "stream",
     "text": [
      "Folder already exists: c:\\Users\\npikall\\eodag\\eodag-workflows\\data\\eodag-downloads\n",
      "Folder already exists: c:\\Users\\npikall\\eodag\\eodag-workflows\\data\\eodag-serialize\n",
      "Folder already exists: c:\\Users\\npikall\\eodag\\eodag-workflows\\data\\eodag-postprocess\n",
      "Folder already exists: c:\\Users\\npikall\\eodag\\eodag-workflows\\data\\shapefiles\n"
     ]
    }
   ],
   "source": [
    "#Create Folders for saving Data, serializing and post processing.\n",
    "\n",
    "workspaces = [paths['download'], paths['serialize'], paths['post'], paths['shapefiles']]\n",
    "\n",
    "for ws in workspaces:    \n",
    "    if not os.path.isdir(ws):\n",
    "        ws = os.path.abspath(ws)\n",
    "        os.mkdir(ws)\n",
    "        print(f'Created Folder: {ws}')\n",
    "    else:\n",
    "        ws = os.path.abspath(ws)\n",
    "        print(f'Folder already exists: {ws}')"
   ]
  },
  {
   "cell_type": "markdown",
   "metadata": {},
   "source": [
    "## Step 1\n",
    "### Configuration\n",
    "In the configuration we pass the username and password from the Copernicus Dataspace Ecosystem (CDSE) to eodag. Also we define the path for the downloads."
   ]
  },
  {
   "cell_type": "code",
   "execution_count": null,
   "metadata": {},
   "outputs": [],
   "source": [
    "# 1. Configure\n",
    "#Create EODAG Object and set preferred Provider\n",
    "\n",
    "dag = EODataAccessGateway()\n",
    "dag.set_preferred_provider(\"cop_dataspace\") # Copernicus Data Space Ecosystem\n",
    "\n",
    "dag.update_providers_config(f\"\"\"\n",
    "    cop_dataspace:\n",
    "        download:\n",
    "            outputs_prefix: {os.path.abspath(paths['download'])}\n",
    "        auth:\n",
    "            credentials:\n",
    "                username: {secrets['USER_KEY']}\n",
    "                password: {secrets['USER_SECRET']}\n",
    "\"\"\")"
   ]
  },
  {
   "cell_type": "markdown",
   "metadata": {},
   "source": [
    "## Step 2\n",
    "### Search\n",
    "Searching for products is one of the most important features of eodag. Here you pass the desired parameters of your search."
   ]
  },
  {
   "cell_type": "code",
   "execution_count": null,
   "metadata": {},
   "outputs": [],
   "source": [
    "# 2. Search \n",
    "#Set Search Parameters and get catalog of products\n",
    "\n",
    "latmin, latmax = 47.86, 48.407\n",
    "lonmin, lonmax = 16.0, 16.9\n",
    "extent = {'lonmin': lonmin, 'latmin': latmin, 'lonmax': lonmax, 'latmax': latmax}\n",
    "\n",
    "\n",
    "search_results, total_count = dag.search(\n",
    "    productType='S2_MSI_L2A',\n",
    "    provider='cop_dataspace',\n",
    "    geom=extent,\n",
    "    #tileIdentifier=\"33UXP\",\n",
    "    start='2021-04-01',\n",
    "    end='2021-05-01',\n",
    "    cloudCover=50 #You can specify cloudcover here or later when filtering.\n",
    ")\n",
    "\n",
    "print(f\"Got {len(search_results)} products and an estimated total number of {total_count} products.\")"
   ]
  },
  {
   "cell_type": "code",
   "execution_count": null,
   "metadata": {},
   "outputs": [],
   "source": [
    "# Folium Map\n",
    "fmap = folium.Map(location=(np.array([latmin, latmax]).mean(), np.array([lonmin, lonmax]).mean()), zoom_start=9)\n",
    "folium.Rectangle(bounds=[[latmin, lonmin],[latmax, lonmax]], color=\"red\").add_to(fmap)\n",
    "folium.GeoJson(\n",
    "    data=search_results[:],  # SearchResult has a __geo_interface__ interface used by folium to get its GeoJSON representation, single results dont work (this [2:3] instead of [2])\n",
    "    tooltip=folium.GeoJsonTooltip(fields=[\"title\"])\n",
    ").add_to(fmap)\n",
    "fmap"
   ]
  },
  {
   "cell_type": "code",
   "execution_count": null,
   "metadata": {},
   "outputs": [],
   "source": [
    "#Plot Quicklooks of Search Results\n",
    "def plot_quicklooks(products):\n",
    "    fig = plt.figure(figsize=(10,8))\n",
    "    for i, product in enumerate(products[:12]):\n",
    "        # This line takes care of downloading the quicklook\n",
    "        quicklook_path = product.get_quicklook()\n",
    "        \n",
    "        date = product.properties['startTimeFromAscendingNode'][:16]\n",
    "        provider = product.provider\n",
    "        tile = product.properties['title'].split('_')[5].lstrip('T')\n",
    "    \n",
    "        # Plot the quicklook\n",
    "        img = mpimg.imread(quicklook_path)\n",
    "        ax = fig.add_subplot(3, 4, i+1)\n",
    "        ax.set_title(f'Product {i}\\n{date}\\n{provider} - {tile}')\n",
    "        ax.tick_params(top=False, bottom=False, left=False, right=False,\n",
    "                       labelleft=False, labelbottom=False)\n",
    "        plt.imshow(img)\n",
    "    plt.tight_layout()\n",
    "    \n",
    "plot_quicklooks(search_results)"
   ]
  },
  {
   "cell_type": "markdown",
   "metadata": {},
   "source": [
    "## Step 3\n",
    "### Crunch\n",
    "Crunching as defined in eodag is a way to filter the EO products contained in a SearchResult object. Several filters are available and further described in this document.\n",
    "\n",
    "A SearchResult has a crunch() method that requires a filter instance as an argument, itself initialized with a dictionary that contains the required parameters. According to the filter used, some more kwargs may need to be passed to crunch(). The filters return a list of EOProducts.\n",
    "\n",
    "The following Filter Options are available (Note `sr` is the search result):\n",
    "- Filter by start and end date (`sr.filter_date()` or import `FilterDate` from eodag.crunch)\n",
    "- Filter by geometry (`FilterOverlap`, )\n",
    "- Filter by property (`FilterProperty`)\n",
    "- Filter for online products (`sr.filter_online()` or `FilterProperty`)\n",
    "- Filter the latest products intersecting a geometry (`sr.filter_latest_intersect()` or `FilterLatestIntersect`)\n",
    "\n",
    "\n"
   ]
  },
  {
   "cell_type": "code",
   "execution_count": null,
   "metadata": {},
   "outputs": [],
   "source": [
    "# 3. Crunch (other Crunching Methods are described on EODAG Website)\n",
    "\n",
    "#Filter for Cloudcover\n",
    "filtered_products = search_results.crunch(\n",
    "    FilterProperty(dict(cloudCover=100, operator=\"lt\")))\n",
    "print(f\"{len(search_results) - len(filtered_products)} from {len(search_results)} products were filtered out by the property filter.\")\n",
    "\n",
    "#Filter already filterd products for online products\n",
    "online_products = filtered_products.filter_online()\n",
    "print(f\"{len(filtered_products) - len(online_products)} from {len(online_products)} products are offline and have been filtered out.\")\n",
    "\n",
    "plot_quicklooks(online_products)\n",
    "\n"
   ]
  },
  {
   "cell_type": "markdown",
   "metadata": {},
   "source": [
    "### Further Crunching\n",
    "\n",
    "In order to have some more speciffic filtering operations at hand we can use the Nameing Convention, which stores a lot of information about the individual products. This enables us to filter for things like the relative orbits, the Tile Numbers or the processing baseline. \n",
    "\n",
    "#### Compact Naming Convention\n",
    "\n",
    "The compact naming convention is arranged as follows:\n",
    "\n",
    "``MMM_MSIXXX_YYYYMMDDHHMMSS_Nxxyy_ROOO_Txxxxx_< Product Discriminator >.SAFE``\n",
    "\n",
    "The products contain two dates.\n",
    "\n",
    "The first date (YYYYMMDDHHMMSS) is the datatake sensing time.\n",
    "The second date is the \"< Product Discriminator >\" field, which is 15 characters in length, and is used to distinguish between different end user products from the same datatake. Depending on the instance, the time in this field can be earlier or slightly later than the datatake sensing time.\n",
    "The other components of the filename are:\n",
    "\n",
    "- ``MMM``: is the mission ID(S2A/S2B)\n",
    "- ``MSIXXX``: MSIL1C denotes the Level-1C product level/ MSIL2A denotes the Level-2A product level\n",
    "- ``YYYYMMDDHHMMSS``: the datatake sensing start time\n",
    "- ``Nxxyy``: the Processing Baseline number (e.g. N0204)\n",
    "- ``ROOO``: Relative Orbit number (R001 - R143)\n",
    "- ``Txxxxx``: Tile Number field\n",
    "- ``SAFE``: Product Format (Standard Archive Format for Europe)\n",
    "\n",
    "The `EODAG` Search Results therefore can be filtered (maybe in a slightly unconventional way) by many more features as originally intedned by `EODAG`. Essentially you can use any property a product has (`product.properties`) to make an filtering operation. Here are some examples."
   ]
  },
  {
   "cell_type": "code",
   "execution_count": null,
   "metadata": {},
   "outputs": [],
   "source": [
    "# Sorting the search results for reproducibility (sorted by tile(5) and date (2))\n",
    "products = SearchResult(sorted([p for p in online_products], key=lambda p: p.properties[\"title\"].split(\"_\")[5] + p.properties[\"title\"].split(\"_\")[2]))\n",
    "\n",
    "# Filter by Processing Pipeline\n",
    "products = SearchResult([p for p in products if p.properties['id'].split('_')[3] == 'N0300'])\n",
    "\n",
    "# Filter by Tile\n",
    "products = SearchResult([p for p in products if p.properties['id'].split('_')[5] == 'T33UXP'])\n",
    "plot_quicklooks(products)"
   ]
  },
  {
   "cell_type": "markdown",
   "metadata": {},
   "source": [
    "## Step 4 \n",
    "### Serialize\n",
    "The EODataAccessGateway class provides methods to save a SearchResult object to a GeoJSON file or to load a GeoJSON file to a SearchResult. These methods come in handy to save the state of a search and restore it later."
   ]
  },
  {
   "cell_type": "code",
   "execution_count": null,
   "metadata": {},
   "outputs": [],
   "source": [
    "# 4. Serialize (Save the filtered products as a GeoJSON File \n",
    "#               to save the state of a search and restore it later)\n",
    "\n",
    "output_file = os.path.join(workspace_serialize, \"search_results3.geojson\")\n",
    "\n",
    "dag.serialize(\n",
    "    online_products,\n",
    "    filename=output_file\n",
    ")"
   ]
  }
 ],
 "metadata": {
  "kernelspec": {
   "display_name": "base",
   "language": "python",
   "name": "python3"
  },
  "language_info": {
   "codemirror_mode": {
    "name": "ipython",
    "version": 3
   },
   "file_extension": ".py",
   "mimetype": "text/x-python",
   "name": "python",
   "nbconvert_exporter": "python",
   "pygments_lexer": "ipython3",
   "version": "3.12.3"
  }
 },
 "nbformat": 4,
 "nbformat_minor": 2
}
