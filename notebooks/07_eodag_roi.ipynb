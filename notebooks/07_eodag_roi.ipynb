{
 "cells": [
  {
   "cell_type": "code",
   "execution_count": null,
   "metadata": {},
   "outputs": [],
   "source": [
    "#Imports\n",
    "import numpy as np\n",
    "import datetime as dt\n",
    "\n",
    "from eodag import EODataAccessGateway\n",
    "from eodag import setup_logging\n",
    "\n",
    "from rasterio.crs import CRS\n",
    "\n",
    "import rioxarray\n",
    "import rasterio as rio\n",
    "\n",
    "\n",
    "import eotools.loading as eoload\n",
    "import eotools.shortcut as eoshort \n",
    "import eotools.regions as eoregion\n",
    "\n",
    "# Setup Verbose Values:\n",
    "# 0: no logging and no progress bar\n",
    "# 1: no logging but progress bars displayed\n",
    "# 2: log at the INFO level\n",
    "# 3: log at the DEBUG level (even more information)\n",
    "\n",
    "setup_logging(verbose=1)"
   ]
  },
  {
   "cell_type": "markdown",
   "metadata": {},
   "source": [
    "# EODAG - Regions of Interest\n",
    "This Notebook is intended to demonstrate how to make `geojson` Files containing polygons with Regions of Interest."
   ]
  },
  {
   "cell_type": "code",
   "execution_count": null,
   "metadata": {},
   "outputs": [],
   "source": [
    "# Get Credentials from .env file and make dirs from paths.yml\n",
    "# These functions are just shortcuts from a python script and just help to keep the notebooks short and simple\n",
    "workspace = eoshort.read_paths(filepath='paths.yml')\n",
    "dag = EODataAccessGateway()\n",
    "dag.set_preferred_provider(\"cop_dataspace\")\n",
    "deserialized_search_results = eoshort.deserialize(filepath=\"search_results.geojson\", workspace=workspace, dag=dag, log=True)\n",
    "\n",
    "# Download Single Product\n",
    "product = deserialized_search_results[1]\n",
    "path = dag.download(product)"
   ]
  },
  {
   "cell_type": "code",
   "execution_count": null,
   "metadata": {},
   "outputs": [],
   "source": [
    "# Set Boundingbox for Area inside the Tile.\n",
    "latmin, latmax = 48.1, 48.35\n",
    "lonmin, lonmax = 16.1, 16.6\n",
    "extent = {'lonmin': lonmin, 'latmin': latmin, 'lonmax': lonmax, 'latmax': latmax}\n",
    "\n",
    "# Setting common Parameters for all further image processing\n",
    "common_params = dict(\n",
    "    crs=CRS.from_epsg(4326),               # the downloaded images are in 4326, don't reproject them\n",
    "    resolution=0.0001,                     # but lower their resolution (0.0006 should be 60m in 100km)\n",
    "    extent=(lonmin,latmin,lonmax,latmax)   # and zoom over/crop the area of interest\n",
    ")"
   ]
  },
  {
   "cell_type": "code",
   "execution_count": null,
   "metadata": {},
   "outputs": [],
   "source": [
    "# There has been some error with eodag when loading some data into an xarray\n",
    "# There might be some processing pipelines which result in eodag grabbing the wrong file.\n",
    "# In such a case try to use the following command to load the dataset\n",
    "\n",
    "# assets = eoload.get_assets(path, res=10)\n",
    "# ds = eoload.load_single_product_regex(product=product, bands=assets, **common_params)\n"
   ]
  },
  {
   "cell_type": "code",
   "execution_count": null,
   "metadata": {},
   "outputs": [],
   "source": [
    "# Get List of all available assets from a product\n",
    "bands_2_load = eoload.get_assets(path, res=10, only_spectral=True, include_tci=True)\n",
    "\n",
    "# Loading multiple Bands into a dataset\n",
    "ds = eoload.load_single_product(product=product, bands=bands_2_load, params=common_params)\n",
    "\n",
    "# Selecting a single Timestamp from the Dataset\n",
    "single_img = ds.sel(time=dt.datetime(2021, 4, 12), method='nearest')"
   ]
  },
  {
   "cell_type": "code",
   "execution_count": null,
   "metadata": {},
   "outputs": [],
   "source": [
    "# Activate the widget magic \n",
    "%matplotlib widget \n",
    "%matplotlib widget \n",
    "\n",
    "# Use roi to draw polygons and export them.\n",
    "eoregion.roi(canvas=np.transpose(single_img['TCI'].values, (1,2,0)), ds=ds, button_1='Urban', button_2='NonUrban', figsize=(12,12), savepath='../data/shapefiles')"
   ]
  }
 ],
 "metadata": {
  "kernelspec": {
   "display_name": "eoenv",
   "language": "python",
   "name": "python3"
  },
  "language_info": {
   "codemirror_mode": {
    "name": "ipython",
    "version": 3
   },
   "file_extension": ".py",
   "mimetype": "text/x-python",
   "name": "python",
   "nbconvert_exporter": "python",
   "pygments_lexer": "ipython3",
   "version": "3.12.3"
  }
 },
 "nbformat": 4,
 "nbformat_minor": 2
}
