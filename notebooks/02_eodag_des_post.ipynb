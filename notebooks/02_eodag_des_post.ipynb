{
 "cells": [
  {
   "cell_type": "code",
   "execution_count": null,
   "metadata": {},
   "outputs": [],
   "source": [
    "#Imports\n",
    "import os\n",
    "import xarray as xr\n",
    "import folium\n",
    "import numpy as np\n",
    "import datetime as dt\n",
    "\n",
    "from eodag import EODataAccessGateway\n",
    "from eodag import setup_logging\n",
    "\n",
    "from rasterio.crs import CRS\n",
    "\n",
    "import eotools.shortcut as eoshort\n",
    "import eotools.loading as eoload\n",
    "\n",
    "# Setup Verbose Values:\n",
    "# 0: no logging and no progress bar\n",
    "# 1: no logging but progress bars displayed\n",
    "# 2: log at the INFO level\n",
    "# 3: log at the DEBUG level (even more information)\n",
    "\n",
    "setup_logging(verbose=1)\n"
   ]
  },
  {
   "cell_type": "markdown",
   "metadata": {},
   "source": [
    "# EODAG - deserialized post process\n",
    "\n",
    "This Notebook is intended to demonstrate how to deserialize a previously made search and download the data and to work with it."
   ]
  },
  {
   "cell_type": "markdown",
   "metadata": {},
   "source": [
    "## Step 1\n",
    "### Configuration\n",
    "In the configuration we pass the username and password from the Copernicus Dataspace Ecosystem (CDSE) to eodag. Also we define the path for the downloads."
   ]
  },
  {
   "cell_type": "code",
   "execution_count": null,
   "metadata": {},
   "outputs": [],
   "source": [
    "# Get Credentials from .env file and make dirs from paths.yml\n",
    "# These functions are just shortcuts from a python script and just help to keep the notebooks short and simple\n",
    "workspace = eoshort.read_paths(filepath='paths.yml')\n",
    "dag = EODataAccessGateway()\n",
    "dag.set_preferred_provider(\"cop_dataspace\")"
   ]
  },
  {
   "cell_type": "markdown",
   "metadata": {},
   "source": [
    "## Step 2\n",
    "### Deserialize\n",
    "Since the search is already done (see Notebook `eodag_search`) and the search result has been serialized, we are going to deserialize the search result and register it. If it is only deserialized it won't be able to download the data."
   ]
  },
  {
   "cell_type": "code",
   "execution_count": null,
   "metadata": {},
   "outputs": [],
   "source": [
    "# Deserialize the Search Results\n",
    "output_file = os.path.join(workspace['serialize'], \"search_results.geojson\")\n",
    "deserialized_search_results = dag.deserialize_and_register(output_file)\n",
    "\n",
    "print(f\"Got {len(deserialized_search_results)} deserialized products.\")"
   ]
  },
  {
   "cell_type": "code",
   "execution_count": null,
   "metadata": {},
   "outputs": [],
   "source": [
    "#Plot Quicklooks of Search Results\n",
    "eoshort.plot_quicklooks(deserialized_search_results)"
   ]
  },
  {
   "cell_type": "markdown",
   "metadata": {},
   "source": [
    "## Step 3\n",
    "### Download \n",
    "Now either a single product or multiple products from the search will be downloaded. If the product has already been downloaded it will not load it again, if it is saved in the right workingspace."
   ]
  },
  {
   "cell_type": "code",
   "execution_count": null,
   "metadata": {},
   "outputs": [],
   "source": [
    "# Download multiple Products\n",
    "products = deserialized_search_results\n",
    "paths = dag.download_all(products)\n"
   ]
  },
  {
   "cell_type": "code",
   "execution_count": null,
   "metadata": {},
   "outputs": [],
   "source": [
    "# Set Boundingbox for Area inside the Tile.\n",
    "latmin, latmax = 48.1, 48.35\n",
    "lonmin, lonmax = 16.1, 16.6\n",
    "extent = {'lonmin': lonmin, 'latmin': latmin, 'lonmax': lonmax, 'latmax': latmax}\n",
    "\n",
    "# Folium Map\n",
    "fmap = folium.Map(location=(np.array([latmin, latmax]).mean(), np.array([lonmin, lonmax]).mean()), zoom_start=9, tiles='OpenStreetMap')\n",
    "folium.Rectangle(bounds=[[latmin, lonmin],[latmax, lonmax]], color=\"red\").add_to(fmap)\n",
    "folium.GeoJson(\n",
    "    data=deserialized_search_results[:],  # SearchResult has a __geo_interface__ interface used by folium to get its GeoJSON representation, single results dont work (this [2:3] instead of [2])\n",
    "    tooltip=folium.GeoJsonTooltip(fields=[\"title\"])\n",
    ").add_to(fmap)\n",
    "fmap"
   ]
  },
  {
   "cell_type": "code",
   "execution_count": null,
   "metadata": {},
   "outputs": [],
   "source": [
    "# Setting common Parameters for all further image processing\n",
    "common_params = dict(\n",
    "    crs=CRS.from_epsg(4326),               # the downloaded images are in 4326, don't reproject them\n",
    "    resolution=0.0001,                     # but lower their resolution (0.0006 should be 60m in 100km)\n",
    "    extent=(lonmin,latmin,lonmax,latmax)   # and zoom over/crop the area of interest\n",
    ")\n",
    "\n",
    "# Define basic Functions for future operations\n",
    "def normalized_difference(a, b):\n",
    "    return (a - b*1.)/(a + b)\n",
    "\n",
    "def normalize(a):\n",
    "    return (a - a.min())/(a.max() - a.min())\n",
    "    "
   ]
  },
  {
   "cell_type": "markdown",
   "metadata": {},
   "source": [
    "## Step 4 \n",
    "### Post Process"
   ]
  },
  {
   "cell_type": "markdown",
   "metadata": {},
   "source": [
    "#### Simple NDVI Image"
   ]
  },
  {
   "cell_type": "code",
   "execution_count": null,
   "metadata": {},
   "outputs": [],
   "source": [
    "# Load Bands 4 and 8 into memory\n",
    "def band_regex(band, res=60):\n",
    "    return rf'^(?!.*MSK).*{band}_(60|20<10)m.*$'\n",
    "\n",
    "RED = products[0].get_data(band=band_regex('B04', res=10), **common_params)\n",
    "NIR = products[0].get_data(band=band_regex('B08', res=10), **common_params)\n",
    "\n",
    "NDVI = normalized_difference(NIR, RED)"
   ]
  },
  {
   "cell_type": "code",
   "execution_count": null,
   "metadata": {},
   "outputs": [],
   "source": [
    "# Plot the NDVI Image\n",
    "NDVI.plot(cmap=\"RdYlGn\", center=False, size=6, aspect='equal')"
   ]
  },
  {
   "cell_type": "markdown",
   "metadata": {},
   "source": [
    "#### More complex datasets\n",
    "As `EODAG` only has a function to load a single band from a single product into an `xarray` a new function for more complex xarray Datasets is needed."
   ]
  },
  {
   "cell_type": "code",
   "execution_count": null,
   "metadata": {},
   "outputs": [],
   "source": [
    "# Function for loading multiple bands of a product into a single xarray Dataset. Each Band corresponds to a Variable in the dataset.\n",
    "def load_single_product(product, bands:list[str], params=common_params):\n",
    "    loaded_data = {}\n",
    "    for band in bands:\n",
    "        # Load Band into an xarray Dataarray\n",
    "        data = product.get_data(band=band, **params)\n",
    "\n",
    "        # Get rid of Dimensions of size 1 [e.g.: shapes from (1,300,500) to (300,500)]\n",
    "        data = data.squeeze()\n",
    "\n",
    "        # Get time information from the product properties\n",
    "        time_str = product.properties['startTimeFromAscendingNode']\n",
    "        date = dt.datetime.strptime(time_str,'%Y-%m-%dT%H:%M:%S.%f%z')\n",
    "\n",
    "        # Add a timestamp to the xarray dataarray (taken from product properties)\n",
    "        data = data.expand_dims(dim={'time':[date.date()]})\n",
    "\n",
    "        # Name the Dataarray (band name is used) -> Dataset uses the Dataarray name to name its variables\n",
    "        data.name = band\n",
    "\n",
    "        # Add Dataarray of a single band to the loaded_data dictionary\n",
    "        loaded_data[band] = data\n",
    "    # Create a xarray Dataset from a dictionary of Dataarrays\n",
    "    ds = xr.Dataset(loaded_data)\n",
    "    return ds"
   ]
  },
  {
   "cell_type": "markdown",
   "metadata": {},
   "source": [
    "Now we have a function to load multiple bands into a single Dataset, we can expand on that and make another function, which alows us to load multiple times from a single tile into a Dataset."
   ]
  },
  {
   "cell_type": "code",
   "execution_count": null,
   "metadata": {},
   "outputs": [],
   "source": [
    "# Function for loading multiple datasets\n",
    "def load_multiple_timestamps(products, bands:list, *args, **kwargs):\n",
    "    # Empty List where datasets are stored\n",
    "    single_ds = []\n",
    "    for product in products:\n",
    "        # Load each dataarray and add to single_ds List\n",
    "        single_product = load_single_product(product=product, bands=bands, *args, **kwargs)\n",
    "        single_ds.append(single_product)\n",
    "    # Merge datasets from List\n",
    "    ds = xr.merge(single_ds)\n",
    "    return ds"
   ]
  },
  {
   "cell_type": "code",
   "execution_count": null,
   "metadata": {},
   "outputs": [],
   "source": [
    "# Function for finding all assets of a product\n",
    "def load_assets(root:str, res=60, only_spectral:bool=True, include_tci:bool=False):\n",
    "    jp2_files = [file for dirs in os.walk(root, topdown=True)\n",
    "                     for file in dirs[2] if file.endswith(f\"_{res}m.jp2\")]\n",
    "    assets = [file.split('_')[2] for file in jp2_files if file.startswith('T')]\n",
    "\n",
    "    if only_spectral and include_tci==False:\n",
    "        assets = [a for a in assets if a[0]=='B']\n",
    "    elif only_spectral and include_tci:\n",
    "        assets = [a for a in assets if a[0] == 'B' or a[0] == 'T']\n",
    "    else:\n",
    "        pass\n",
    "    return assets"
   ]
  },
  {
   "cell_type": "code",
   "execution_count": null,
   "metadata": {},
   "outputs": [],
   "source": [
    "bands_2_load = load_assets(paths[0], res=60, only_spectral=True, include_tci=False)\n",
    "\n",
    "ds = eoload.load_multiple_timestamps_regex(products=products, bands=bands_2_load)\n",
    "ds"
   ]
  },
  {
   "cell_type": "code",
   "execution_count": null,
   "metadata": {},
   "outputs": [],
   "source": []
  }
 ],
 "metadata": {
  "kernelspec": {
   "display_name": "base",
   "language": "python",
   "name": "python3"
  },
  "language_info": {
   "codemirror_mode": {
    "name": "ipython",
    "version": 3
   },
   "file_extension": ".py",
   "mimetype": "text/x-python",
   "name": "python",
   "nbconvert_exporter": "python",
   "pygments_lexer": "ipython3",
   "version": "3.12.3"
  }
 },
 "nbformat": 4,
 "nbformat_minor": 2
}
