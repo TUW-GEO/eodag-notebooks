{
 "cells": [
  {
   "cell_type": "code",
   "execution_count": null,
   "metadata": {},
   "outputs": [],
   "source": [
    "# Imports \n",
    "import os\n",
    "import matplotlib.pyplot as plt\n",
    "import matplotlib.image as mpimg\n",
    "import xarray as xr\n",
    "import folium\n",
    "import numpy as np\n",
    "import pandas as pd\n",
    "import datetime as dt\n",
    "\n",
    "from eodag import EODataAccessGateway\n",
    "from eodag import setup_logging\n",
    "from eodag.crunch import FilterProperty\n",
    "\n",
    "\n",
    "from rasterio.crs import CRS\n",
    "from rioxarray.merge import merge_arrays\n",
    "\n",
    "import eotools.shortcut as eoshort\n",
    "import eotools.loading as eoload\n",
    "\n",
    "# Setup Verbose Values:\n",
    "# 0: no logging and no progress bar\n",
    "# 1: no logging but progress bars displayed\n",
    "# 2: log at the INFO level\n",
    "# 3: log at the DEBUG level (even more information)\n",
    "\n",
    "setup_logging(verbose=1)"
   ]
  },
  {
   "cell_type": "markdown",
   "metadata": {},
   "source": [
    "# EODAG - Search and Post Process\n",
    "\n",
    "EODAG (Earth Observation Data Access Gateway) is a command line tool and a Python package for searching and downloading remotely sensed images while offering a unified API for data access regardless of the data provider.\n",
    "\n",
    "EODAG gives you an easy way to access products from more than 10 providers, with more than 50 different product types (Sentinel 1, Sentinel 2, Sentinel 3, Landsat, etc.) that can be searched and downloaded."
   ]
  },
  {
   "cell_type": "markdown",
   "metadata": {},
   "source": [
    "## Step 1\n",
    "### Configuration\n",
    "In the configuration we pass the username and password from the Copernicus Dataspace Ecosystem (CDSE) to eodag. Also we define the path for the downloads."
   ]
  },
  {
   "cell_type": "code",
   "execution_count": null,
   "metadata": {},
   "outputs": [],
   "source": [
    "# Get Credentials from .env file and make dirs from paths.yml\n",
    "# These functions are just shortcuts from a python script and just help to keep the notebooks short and simple\n",
    "workspace = eoshort.read_paths(filepath='paths.yml')\n",
    "dag = EODataAccessGateway()\n",
    "dag.set_preferred_provider(\"cop_dataspace\")"
   ]
  },
  {
   "cell_type": "markdown",
   "metadata": {},
   "source": [
    "## Step 2\n",
    "### Search\n",
    "Searching for products is one of the most important features of eodag. Here you pass the desired parameters of your search."
   ]
  },
  {
   "cell_type": "code",
   "execution_count": null,
   "metadata": {},
   "outputs": [],
   "source": [
    "# 2. Search \n",
    "#Set Search Parameters and get catalog of products\n",
    "\n",
    "latmin, latmax = 47.86, 48.407\n",
    "lonmin, lonmax = 16.0, 16.9\n",
    "extent = {'lonmin': lonmin, 'latmin': latmin, 'lonmax': lonmax, 'latmax': latmax}\n",
    "\n",
    "\n",
    "search_results, total_count = dag.search(\n",
    "    productType='S2_MSI_L2A',\n",
    "    provider='cop_dataspace',\n",
    "    #geom=extent,\n",
    "    tileIdentifier=\"33UXP\",\n",
    "    start='2023-03-14',\n",
    "    end='2023-03-21',\n",
    "    cloudCover=100 #You can specify cloudcover here or later when filtering.\n",
    ")\n",
    "\n",
    "print(f\"Got {len(search_results)} products and an estimated total number of {total_count} products.\")"
   ]
  },
  {
   "cell_type": "code",
   "execution_count": null,
   "metadata": {},
   "outputs": [],
   "source": [
    "# Folium Map\n",
    "fmap = folium.Map(location=(np.array([latmin, latmax]).mean(), np.array([lonmin, lonmax]).mean()), zoom_start=9)\n",
    "folium.Rectangle(bounds=[[latmin, lonmin],[latmax, lonmax]], color=\"red\").add_to(fmap)\n",
    "folium.GeoJson(\n",
    "    data=search_results[:],  # SearchResult has a __geo_interface__ interface used by folium to get its GeoJSON representation, single results dont work (this [2:3] instead of [2])\n",
    "    tooltip=folium.GeoJsonTooltip(fields=[\"title\"])\n",
    ").add_to(fmap)\n",
    "fmap"
   ]
  },
  {
   "cell_type": "code",
   "execution_count": null,
   "metadata": {},
   "outputs": [],
   "source": [
    "#Plot Quicklooks of Search Results\n",
    "eoshort.plot_quicklooks(search_results)"
   ]
  },
  {
   "cell_type": "markdown",
   "metadata": {},
   "source": [
    "## Step 3\n",
    "### Crunch\n",
    "Crunching as defined in eodag is a way to filter the EO products contained in a SearchResult object. Several filters are available and further described in this document.\n",
    "\n",
    "A SearchResult has a crunch() method that requires a filter instance as an argument, itself initialized with a dictionary that contains the required parameters. According to the filter used, some more kwargs may need to be passed to crunch(). The filters return a list of EOProducts.\n",
    "\n",
    "The following Filter Options are available (Note `sr` is the search result):\n",
    "- Filter by start and end date (`sr.filter_date()` or import `FilterDate` from eodag.crunch)\n",
    "- Filter by geometry (`FilterOverlap`, )\n",
    "- Filter by property (`FilterProperty`)\n",
    "- Filter for online products (`sr.filter_online()` or `FilterProperty`)\n",
    "- Filter the latest products intersecting a geometry (`sr.filter_latest_intersect()` or `FilterLatestIntersect`)\n",
    "\n",
    "\n"
   ]
  },
  {
   "cell_type": "code",
   "execution_count": null,
   "metadata": {},
   "outputs": [],
   "source": [
    "# 3. Crunch (other Crunching Methods are described on EODAG Website)\n",
    "\n",
    "#Filter for Cloudcover\n",
    "filtered_products = search_results.crunch(\n",
    "    FilterProperty(dict(cloudCover=80, operator=\"lt\")))\n",
    "print(f\"{len(search_results) - len(filtered_products)} from {len(search_results)} products were filtered out by the property filter.\")\n",
    "\n",
    "#Filter already filterd products for online products\n",
    "online_products = filtered_products.filter_online()\n",
    "print(f\"{len(filtered_products) - len(online_products)} from {len(online_products)} products are offline and have been filtered out.\")\n",
    "\n",
    "#plot_quicklooks(online_products)\n",
    "\n"
   ]
  },
  {
   "cell_type": "markdown",
   "metadata": {},
   "source": [
    "## Step 4 \n",
    "### Download\n",
    "\n",
    "EOProducts can either be downloaded individually with ``download()`` or together with ``download_all()`` from a SearchResult. If the product has already been downloaded and the right directory has been configured, then it will not be downloaded again, as eodag checks for rexisting files."
   ]
  },
  {
   "cell_type": "code",
   "execution_count": null,
   "metadata": {},
   "outputs": [],
   "source": [
    "# Download multiple Products\n",
    "products = online_products\n",
    "paths = dag.download_all(products)\n"
   ]
  },
  {
   "cell_type": "markdown",
   "metadata": {},
   "source": [
    "## Step 5\n",
    "### Post Process\n",
    "\n",
    "Simple Example of an NDVI Image.\n"
   ]
  },
  {
   "cell_type": "code",
   "execution_count": null,
   "metadata": {},
   "outputs": [],
   "source": [
    "# Setting common Parameters for all further image processing\n",
    "common_params = dict(\n",
    "    crs=CRS.from_epsg(4326),               # the downloaded images are in 4326, don't reproject them\n",
    "    resolution=0.0006,                     # but lower their resolution (0.0006 should be 60m in 100km)\n",
    "    extent=(lonmin,latmin,lonmax,latmax)   # and zoom over/crop the area of interest\n",
    ")\n",
    "\n",
    "# Define basic Functions for future operations\n",
    "def normalized_difference(a, b):\n",
    "    return (a - b*1.)/(a + b)"
   ]
  },
  {
   "cell_type": "code",
   "execution_count": null,
   "metadata": {},
   "outputs": [],
   "source": [
    "# Load Bands 4 and 8 into memory\n",
    "RED = products[0].get_data(band=\"B04\", **common_params)\n",
    "NIR = products[0].get_data(band=\"B08\", **common_params)\n",
    "\n",
    "NDVI = normalized_difference(NIR, RED)"
   ]
  },
  {
   "cell_type": "code",
   "execution_count": null,
   "metadata": {},
   "outputs": [],
   "source": [
    "# Plot the NDVI Image\n",
    "NDVI.plot(cmap=\"RdYlGn\", center=False, size=6, aspect='equal')"
   ]
  }
 ],
 "metadata": {
  "kernelspec": {
   "display_name": "eoenv",
   "language": "python",
   "name": "python3"
  },
  "language_info": {
   "codemirror_mode": {
    "name": "ipython",
    "version": 3
   },
   "file_extension": ".py",
   "mimetype": "text/x-python",
   "name": "python",
   "nbconvert_exporter": "python",
   "pygments_lexer": "ipython3",
   "version": "3.12.3"
  }
 },
 "nbformat": 4,
 "nbformat_minor": 2
}
